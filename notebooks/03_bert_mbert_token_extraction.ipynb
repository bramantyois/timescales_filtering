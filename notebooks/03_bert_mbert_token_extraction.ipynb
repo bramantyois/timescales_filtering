{
 "cells": [
  {
   "cell_type": "code",
   "execution_count": 1,
   "metadata": {},
   "outputs": [
    {
     "name": "stdout",
     "output_type": "stream",
     "text": [
      "/mnt/antares_raid/home/bramantyos/codes/timescales_filtering/feature_extraction\n"
     ]
    }
   ],
   "source": [
    "import os\n",
    "\n",
    "# move to project root\n",
    "while True:\n",
    "    # get list of directories\n",
    "    dirs = os.listdir()\n",
    "    if \"README.md\" in dirs:\n",
    "        break\n",
    "    else:\n",
    "        os.chdir(\"..\")\n",
    "\n",
    "# then move to feature extraction\n",
    "os.chdir(\"feature_extraction\")\n",
    "\n",
    "print(os.getcwd())"
   ]
  },
  {
   "cell_type": "code",
   "execution_count": 16,
   "metadata": {},
   "outputs": [],
   "source": [
    "from utils import load_story_info\n",
    "from hard_coded_things import featuresets_dict, train_stories, test_stories, train_stories_zh, test_stories_zh\n",
    "\n",
    "import numpy as np\n",
    "\n",
    "from tqdm.notebook import trange\n",
    "from typing import Optional\n",
    "from scipy.signal import periodogram\n",
    "\n",
    "import matplotlib.pyplot as plt\n",
    "import seaborn as sns"
   ]
  },
  {
   "cell_type": "code",
   "execution_count": 3,
   "metadata": {},
   "outputs": [],
   "source": [
    "from config import config_plotting\n",
    "\n",
    "from features import Features, get_contextual_embeddings\n",
    "from utils import load_generic_trfiles, load_grids_for_stories"
   ]
  },
  {
   "cell_type": "code",
   "execution_count": 4,
   "metadata": {},
   "outputs": [],
   "source": [
    "config_plotting(context=\"paper\", palette=\"muted\")"
   ]
  },
  {
   "cell_type": "code",
   "execution_count": 41,
   "metadata": {},
   "outputs": [],
   "source": [
    "en_grid_dir = \"../data/bling/grids_w_punctuation/en\"\n",
    "zh_grid_dir = \"../data/bling/grids_w_punctuation/zh\"\n",
    "\n",
    "en_trfile_dir = \"../data/bling/COL/trfiles/en/\" \n",
    "zh_trfile_dir = \"../data/bling/COL/trfiles/zh/\""
   ]
  },
  {
   "cell_type": "code",
   "execution_count": 47,
   "metadata": {},
   "outputs": [],
   "source": [
    "def remove_punctuation(text: str):\n",
    "    return (\n",
    "        text.replace(\".\", \"\")\n",
    "        .replace(\",\", \"\")\n",
    "        .replace(\"!\", \"\")\n",
    "        .replace(\"?\", \"\")\n",
    "        .replace(\";\", \"\")\n",
    "        .replace(\":\", \"\")\n",
    "        .replace(\"。\", \"\")\n",
    "    )"
   ]
  },
  {
   "cell_type": "code",
   "execution_count": 48,
   "metadata": {},
   "outputs": [
    {
     "name": "stdout",
     "output_type": "stream",
     "text": [
      "Processing story: alternateithicatom\n",
      "load_grids_for_stories ['alternateithicatom'] ../data/bling/grids_w_punctuation/en\n",
      "load_grids_for_stories ['alternateithicatom'] ../data/bling/grids_w_punctuation/zh\n",
      "Processing story: avatar\n",
      "load_grids_for_stories ['avatar'] ../data/bling/grids_w_punctuation/en\n",
      "load_grids_for_stories ['avatar'] ../data/bling/grids_w_punctuation/zh\n",
      "Processing story: howtodraw\n",
      "load_grids_for_stories ['howtodraw'] ../data/bling/grids_w_punctuation/en\n",
      "load_grids_for_stories ['howtodraw'] ../data/bling/grids_w_punctuation/zh\n",
      "Processing story: legacy\n",
      "load_grids_for_stories ['legacy'] ../data/bling/grids_w_punctuation/en\n",
      "load_grids_for_stories ['legacy'] ../data/bling/grids_w_punctuation/zh\n",
      "Processing story: life\n",
      "load_grids_for_stories ['life'] ../data/bling/grids_w_punctuation/en\n",
      "load_grids_for_stories ['life'] ../data/bling/grids_w_punctuation/zh\n",
      "Processing story: myfirstdaywiththeyankees\n",
      "load_grids_for_stories ['myfirstdaywiththeyankees'] ../data/bling/grids_w_punctuation/en\n",
      "load_grids_for_stories ['myfirstdaywiththeyankees'] ../data/bling/grids_w_punctuation/zh\n",
      "Processing story: naked\n",
      "load_grids_for_stories ['naked'] ../data/bling/grids_w_punctuation/en\n",
      "load_grids_for_stories ['naked'] ../data/bling/grids_w_punctuation/zh\n",
      "Processing story: odetostepfather\n",
      "load_grids_for_stories ['odetostepfather'] ../data/bling/grids_w_punctuation/en\n",
      "load_grids_for_stories ['odetostepfather'] ../data/bling/grids_w_punctuation/zh\n",
      "Processing story: souls\n",
      "load_grids_for_stories ['souls'] ../data/bling/grids_w_punctuation/en\n",
      "load_grids_for_stories ['souls'] ../data/bling/grids_w_punctuation/zh\n",
      "Processing story: undertheinfluence\n",
      "load_grids_for_stories ['undertheinfluence'] ../data/bling/grids_w_punctuation/en\n",
      "load_grids_for_stories ['undertheinfluence'] ../data/bling/grids_w_punctuation/zh\n"
     ]
    }
   ],
   "source": [
    "en_words = []\n",
    "zh_words = []\n",
    "\n",
    "for story in train_stories:\n",
    "    print('Processing story:', story)\n",
    "    en_grid_train = load_grids_for_stories([story], en_grid_dir,)\n",
    "    zh_grid_train = load_grids_for_stories([story], zh_grid_dir)\n",
    "\n",
    "    en_trfile_train = load_generic_trfiles([story], en_trfile_dir)\n",
    "    zh_trfile_train = load_generic_trfiles([story], zh_trfile_dir)\n",
    "    \n",
    "    en_features = Features(en_grid_train, en_trfile_train)\n",
    "    zh_features = Features(zh_grid_train, zh_trfile_train)  \n",
    "    \n",
    "    en_story_words = en_features.wordseqs_with_sentence_boundaries[story].data\n",
    "    zh_story_words = zh_features.wordseqs_with_sentence_boundaries[story].data\n",
    "    \n",
    "    en_words.extend(en_story_words)\n",
    "    zh_words.extend(zh_story_words)\n",
    "    \n",
    "\n",
    "# remove punctuation\n",
    "en_words = [remove_punctuation(word) for word in en_words]\n",
    "zh_words = [remove_punctuation(word) for word in zh_words]\n",
    "\n",
    "# remove duplicates\n",
    "en_words = list(set(en_words))\n",
    "zh_words = list(set(zh_words))"
   ]
  },
  {
   "cell_type": "code",
   "execution_count": 49,
   "metadata": {},
   "outputs": [],
   "source": [
    "# save to file\n",
    "with open(\"en_words.txt\", \"w\") as f:\n",
    "    for word in en_words:\n",
    "        f.write(word + \"\\n\")\n",
    "        \n",
    "with open(\"zh_words.txt\", \"w\") as f:\n",
    "    for word in zh_words:\n",
    "        f.write(word + \"\\n\")"
   ]
  },
  {
   "cell_type": "code",
   "execution_count": 9,
   "metadata": {},
   "outputs": [],
   "source": [
    "en_features = Features(en_grid, en_trfile)"
   ]
  },
  {
   "cell_type": "code",
   "execution_count": 12,
   "metadata": {},
   "outputs": [],
   "source": [
    "word_seqs = en_features.wordseqs_with_sentence_boundaries"
   ]
  },
  {
   "cell_type": "code",
   "execution_count": 23,
   "metadata": {},
   "outputs": [
    {
     "name": "stdout",
     "output_type": "stream",
     "text": [
      "English text\n",
      "Extracting embeddings from bert-base-uncased using causal_all split type. 2007 input sequences.\n",
      "Doing lanczos interpolation with cutoff=0.499 and 3 lobes.\n"
     ]
    }
   ],
   "source": [
    "en_ds = get_contextual_embeddings(\n",
    "    word_seqs[\"wheretheressmoke\"],\n",
    "    layer_num=8,\n",
    "    split_type=\"causal_all\",\n",
    "    max_seq_length=10,\n",
    "    use_special_tokens=True,\n",
    ")\n",
    "interp = en_ds.chunksums(interp=\"lanczos\")[10:-5]"
   ]
  },
  {
   "cell_type": "code",
   "execution_count": 24,
   "metadata": {},
   "outputs": [
    {
     "name": "stdout",
     "output_type": "stream",
     "text": [
      "English text\n",
      "Extracting embeddings from bert-base-multilingual-uncased using causal_all split type. 2007 input sequences.\n",
      "Doing lanczos interpolation with cutoff=0.499 and 3 lobes.\n"
     ]
    }
   ],
   "source": [
    "en_mbert_ds = get_contextual_embeddings(\n",
    "    word_seqs[\"wheretheressmoke\"],\n",
    "    layer_num=8,\n",
    "    split_type=\"causal_all\",\n",
    "    max_seq_length=10,\n",
    "    model_name = \"bert-base-multilingual-uncased\",\n",
    "    use_special_tokens=False,\n",
    ")\n",
    "\n",
    "mbert_interp = en_mbert_ds.chunksums(interp=\"lanczos\")[10:-5]"
   ]
  },
  {
   "cell_type": "code",
   "execution_count": 14,
   "metadata": {},
   "outputs": [],
   "source": [
    "BERT_moth = np.load('/mnt/raid/bling/data/features/moth_reading/BertFeat_moth_reading_CHE_BERT_l0-to-l12_c10_noavg_nospetok.npz', allow_pickle=True)\n",
    "BERT_bling = np.load('/mnt/raid/bling/data/features/bling_reading/BertFeat_bling_reading_en_COL_BERT_l0-to-l12_c10_noavg_nospetok.npz', allow_pickle=True)\n",
    "mBERT_moth = np.load('/mnt/raid/bling/data/features/moth_reading/BertMultiFeat_moth_reading_CHE_multilingualBERT_l0-to-l12_c10_noavg_nospetok.npz', allow_pickle=True)\n",
    "mBERT_bling = np.load('/mnt/raid/bling/data/features/bling_reading/BertMultiFeat_bling_reading_en_COL_multilingualBERT_l0-to-l12_c10_noavg_nospetok.npz', allow_pickle=True)"
   ]
  },
  {
   "cell_type": "code",
   "execution_count": 33,
   "metadata": {},
   "outputs": [],
   "source": [
    "bert_moth_8 = BERT_moth['test_features'].tolist()['BERT_8'][0]\n",
    "bert_bling_8 = BERT_bling['test_features'].tolist()['BERT_8'][0]"
   ]
  },
  {
   "cell_type": "code",
   "execution_count": 27,
   "metadata": {},
   "outputs": [],
   "source": [
    "# cosine similarity\n",
    "from sklearn.metrics.pairwise import cosine_similarity"
   ]
  },
  {
   "cell_type": "code",
   "execution_count": 32,
   "metadata": {},
   "outputs": [
    {
     "data": {
      "text/plain": [
       "array([[ 0.95540366, -0.93575674, -1.0521592 , ..., -1.49934071,\n",
       "        -1.07200984, -0.79828725],\n",
       "       [ 0.45890243, -0.37319425, -0.58002195, ..., -0.50412602,\n",
       "        -1.22558735, -1.32222446],\n",
       "       [-0.45752433, -0.78526061, -0.53213749, ...,  0.18404357,\n",
       "        -1.27370402,  0.30574224],\n",
       "       ...,\n",
       "       [ 0.62204686,  0.12377637,  0.02341008, ..., -0.97267267,\n",
       "        -0.45797148,  0.13009126],\n",
       "       [-1.01311025,  1.43927007,  0.44532056, ...,  0.11970278,\n",
       "        -0.82238755, -0.39655882],\n",
       "       [-0.05446936, -0.75081039, -0.9589614 , ...,  1.19362228,\n",
       "        -1.31228829, -0.33641014]])"
      ]
     },
     "execution_count": 32,
     "metadata": {},
     "output_type": "execute_result"
    }
   ],
   "source": [
    "bert_moth_8"
   ]
  },
  {
   "cell_type": "code",
   "execution_count": 34,
   "metadata": {},
   "outputs": [
    {
     "data": {
      "text/plain": [
       "array([[ 0.95540432, -0.93575695, -1.05215813, ..., -1.49933939,\n",
       "        -1.07201049, -0.79828698],\n",
       "       [ 0.4589009 , -0.37319598, -0.58002011, ..., -0.50412585,\n",
       "        -1.2255862 , -1.3222242 ],\n",
       "       [-0.45752407, -0.78525995, -0.53213589, ...,  0.18404178,\n",
       "        -1.27370358,  0.30573982],\n",
       "       ...,\n",
       "       [ 0.62204784,  0.12377702,  0.0234062 , ..., -0.97266922,\n",
       "        -0.45797104,  0.13009211],\n",
       "       [-1.01310825,  1.43926923,  0.44531999, ...,  0.11970295,\n",
       "        -0.82238739, -0.39655904],\n",
       "       [-0.05447093, -0.75081062, -0.95896271, ...,  1.19362332,\n",
       "        -1.31228836, -0.33640659]])"
      ]
     },
     "execution_count": 34,
     "metadata": {},
     "output_type": "execute_result"
    }
   ],
   "source": [
    "bert_bling_8"
   ]
  },
  {
   "cell_type": "code",
   "execution_count": 36,
   "metadata": {},
   "outputs": [],
   "source": [
    "cossim = cosine_similarity(bert_moth_8, bert_bling_8,)\n",
    "\n",
    "import seaborn as sns"
   ]
  },
  {
   "cell_type": "code",
   "execution_count": 18,
   "metadata": {},
   "outputs": [
    {
     "data": {
      "text/plain": [
       "(291, 768)"
      ]
     },
     "execution_count": 18,
     "metadata": {},
     "output_type": "execute_result"
    }
   ],
   "source": [
    "bert_moth_8.shape"
   ]
  },
  {
   "cell_type": "code",
   "execution_count": null,
   "metadata": {},
   "outputs": [],
   "source": []
  }
 ],
 "metadata": {
  "kernelspec": {
   "display_name": "vem",
   "language": "python",
   "name": "python3"
  },
  "language_info": {
   "codemirror_mode": {
    "name": "ipython",
    "version": 3
   },
   "file_extension": ".py",
   "mimetype": "text/x-python",
   "name": "python",
   "nbconvert_exporter": "python",
   "pygments_lexer": "ipython3",
   "version": "3.10.13"
  }
 },
 "nbformat": 4,
 "nbformat_minor": 2
}
