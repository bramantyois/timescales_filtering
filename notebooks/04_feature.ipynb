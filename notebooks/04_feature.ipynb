{
 "cells": [
  {
   "cell_type": "code",
   "execution_count": 1,
   "metadata": {},
   "outputs": [
    {
     "name": "stdout",
     "output_type": "stream",
     "text": [
      "/mnt/antares_raid/home/bramantyos/codes/timescales_filtering/feature_extraction\n"
     ]
    }
   ],
   "source": [
    "import os\n",
    "\n",
    "# move to project root\n",
    "while True:\n",
    "    # get list of directories\n",
    "    dirs = os.listdir()\n",
    "    if \"README.md\" in dirs:\n",
    "        break\n",
    "    else:\n",
    "        os.chdir(\"..\")\n",
    "\n",
    "# then move to feature extraction\n",
    "os.chdir(\"feature_extraction\")\n",
    "\n",
    "print(os.getcwd())"
   ]
  },
  {
   "cell_type": "code",
   "execution_count": 2,
   "metadata": {},
   "outputs": [
    {
     "name": "stdout",
     "output_type": "stream",
     "text": [
      "Using gpu\n"
     ]
    }
   ],
   "source": [
    "from utils import load_generic_trfiles, load_grids_for_stories, load_story_info\n",
    "from features import Features\n",
    "\n",
    "import numpy as np"
   ]
  },
  {
   "cell_type": "code",
   "execution_count": 3,
   "metadata": {},
   "outputs": [],
   "source": [
    "en_grid_dir = \"../data/deniz2019/en/sentence_TextGrids\"\n",
    "en_tr_dir = \"../data/deniz2019/en/trfiles\"\n",
    "\n",
    "zh_grid_dir = \"../data/bling/grids_w_punctuation/zh\"\n",
    "zh_tr_dir = \"../data/bling/TYE/trfiles/zh\""
   ]
  },
  {
   "cell_type": "code",
   "execution_count": 4,
   "metadata": {},
   "outputs": [],
   "source": [
    "train_stories = [\n",
    "    \"alternateithicatom\",\n",
    "    \"avatar\",\n",
    "    \"howtodraw\",\n",
    "    \"legacy\",\n",
    "    \"life\",\n",
    "    \"myfirstdaywiththeyankees\",\n",
    "    \"naked\",\n",
    "    \"odetostepfather\",\n",
    "    \"souls\",\n",
    "    \"undertheinfluence\",\n",
    "]\n",
    "test_stories = [\"wheretheressmoke\"]\n",
    "\n",
    "train_stories_zh = [\n",
    "    \"alternateithacatomAudio_zh\",\n",
    "    \"avatarAudio_zh\",\n",
    "    \"howtodrawAudio_zh\",\n",
    "    \"legacyAudio_zh\",\n",
    "    \"lifeAudio_zh\",\n",
    "    \"myfirstdaywiththeyankeesAudio_zh\",\n",
    "    \"nakedAudio_zh\",\n",
    "    \"odetostepfatherAudio_zh\",\n",
    "    \"soulsAudio_zh\",\n",
    "    \"undertheinfluenceAudio_zh\",\n",
    "]\n",
    "\n",
    "test_stories_zh = [\"wheretheressmokeAudio_zh\"]"
   ]
  },
  {
   "cell_type": "code",
   "execution_count": 5,
   "metadata": {},
   "outputs": [
    {
     "name": "stdout",
     "output_type": "stream",
     "text": [
      "load_grids_for_stories ['alternateithicatom', 'avatar', 'howtodraw', 'legacy', 'life', 'myfirstdaywiththeyankees', 'naked', 'odetostepfather', 'souls', 'undertheinfluence', 'wheretheressmoke'] ../data/deniz2019/en/sentence_TextGrids\n",
      "load_grids_for_stories ['alternateithicatom', 'avatar', 'howtodraw', 'legacy', 'life', 'myfirstdaywiththeyankees', 'naked', 'odetostepfather', 'souls', 'undertheinfluence', 'wheretheressmoke'] ../data/bling/grids_w_punctuation/zh\n"
     ]
    }
   ],
   "source": [
    "# en\n",
    "en_stories = train_stories + test_stories\n",
    "grids = load_grids_for_stories(en_stories, grid_dir=en_grid_dir)\n",
    "trfiles = load_generic_trfiles(en_stories, root=en_tr_dir)\n",
    "features_object = Features(grids, trfiles)\n",
    "\n",
    "# zh\n",
    "grids_zh = load_grids_for_stories(en_stories, grid_dir=zh_grid_dir)\n",
    "trfiles_zh = load_generic_trfiles(en_stories, root=zh_tr_dir)\n",
    "features_object_zh = Features(grids_zh, trfiles_zh)"
   ]
  },
  {
   "cell_type": "code",
   "execution_count": 6,
   "metadata": {},
   "outputs": [
    {
     "data": {
      "text/plain": [
       "<features.Features at 0x7f80201a8e50>"
      ]
     },
     "execution_count": 6,
     "metadata": {},
     "output_type": "execute_result"
    }
   ],
   "source": [
    "features_object"
   ]
  },
  {
   "cell_type": "code",
   "execution_count": 7,
   "metadata": {},
   "outputs": [],
   "source": [
    "n_word_en = []\n",
    "for s in en_stories:\n",
    "    datasequence = features_object.wordseqs[s]\n",
    "    n_word = len(datasequence.data)\n",
    "    min_time = datasequence.data_times.min()\n",
    "    max_time = datasequence.data_times.max()  \n",
    "    \n",
    "    wpm = n_word * 60/ (max_time - min_time)\n",
    "    n_word_en.append(\n",
    "        {\n",
    "            'story': s,\n",
    "            'n_words': n_word,\n",
    "            'min_time': min_time,\n",
    "            'max_time': max_time,\n",
    "            'wpm': wpm   \n",
    "        }\n",
    "    )"
   ]
  },
  {
   "cell_type": "code",
   "execution_count": 8,
   "metadata": {},
   "outputs": [],
   "source": [
    "n_word_zh = []\n",
    "for s in en_stories:\n",
    "    datasequence = features_object_zh.wordseqs[s]\n",
    "    n_word = len(datasequence.data)\n",
    "    min_time = datasequence.data_times.min()\n",
    "    max_time = datasequence.data_times.max()  \n",
    "    \n",
    "    wpm = n_word * 60/ (max_time - min_time)\n",
    "    n_word_zh.append(\n",
    "        {\n",
    "            'story': s,\n",
    "            'n_words': n_word,\n",
    "            'min_time': min_time,\n",
    "            'max_time': max_time,\n",
    "            'wpm': wpm   \n",
    "        }\n",
    "    )"
   ]
  },
  {
   "cell_type": "code",
   "execution_count": 9,
   "metadata": {},
   "outputs": [],
   "source": [
    "# to csv \n",
    "import pandas as pd\n",
    "\n",
    "df_en = pd.DataFrame(n_word_en)\n",
    "df_zh = pd.DataFrame(n_word_zh)\n",
    "\n",
    "df_en.to_csv('outputs/n_words_en.csv', index=False)\n",
    "df_zh.to_csv('outputs/n_words_zh.csv', index=False)"
   ]
  },
  {
   "cell_type": "code",
   "execution_count": 10,
   "metadata": {},
   "outputs": [],
   "source": [
    "df_en.set_index('story', inplace=True)"
   ]
  },
  {
   "cell_type": "code",
   "execution_count": 11,
   "metadata": {},
   "outputs": [],
   "source": [
    "df_zh.set_index('story', inplace=True)"
   ]
  },
  {
   "cell_type": "code",
   "execution_count": 12,
   "metadata": {},
   "outputs": [],
   "source": [
    "# bar plot of wpm for these stories\n",
    "import seaborn as sns\n",
    "import matplotlib.pyplot as plt"
   ]
  },
  {
   "cell_type": "code",
   "execution_count": 13,
   "metadata": {},
   "outputs": [],
   "source": [
    "# joined \n",
    "df_en['lang'] = 'en'\n",
    "df_zh['lang'] = 'zh'\n",
    "\n",
    "df = pd.concat([df_en, df_zh])\n",
    "\n",
    "# rename \"myfirstdaywiththeyankees\" to yankees\n",
    "df.rename(index={'myfirstdaywiththeyankees': 'yankees'}, inplace=True)\n"
   ]
  },
  {
   "cell_type": "code",
   "execution_count": 14,
   "metadata": {},
   "outputs": [],
   "source": [
    "sns.set_style(\"darkgrid\")"
   ]
  },
  {
   "cell_type": "code",
   "execution_count": 15,
   "metadata": {},
   "outputs": [
    {
     "data": {
      "text/plain": [
       "([0, 1, 2, 3, 4, 5, 6, 7, 8, 9, 10],\n",
       " [Text(0, 0, 'alternateithicatom'),\n",
       "  Text(1, 0, 'avatar'),\n",
       "  Text(2, 0, 'howtodraw'),\n",
       "  Text(3, 0, 'legacy'),\n",
       "  Text(4, 0, 'life'),\n",
       "  Text(5, 0, 'yankees'),\n",
       "  Text(6, 0, 'naked'),\n",
       "  Text(7, 0, 'odetostepfather'),\n",
       "  Text(8, 0, 'souls'),\n",
       "  Text(9, 0, 'undertheinfluence'),\n",
       "  Text(10, 0, 'wheretheressmoke')])"
      ]
     },
     "execution_count": 15,
     "metadata": {},
     "output_type": "execute_result"
    },
    {
     "data": {
      "image/png": "[encoded data removed]",
      "text/plain": [
       "<Figure size 1000x600 with 1 Axes>"
      ]
     },
     "metadata": {},
     "output_type": "display_data"
    }
   ],
   "source": [
    "\n",
    "fig, ax = plt.subplots(figsize=(10, 6))\n",
    "\n",
    "sns.barplot(x='story', y='wpm', hue='lang', data=df, ax=ax)\n",
    "\n",
    "# set ticks to be tilted\n",
    "plt.xticks(rotation=45)"
   ]
  },
  {
   "cell_type": "code",
   "execution_count": 81,
   "metadata": {},
   "outputs": [
    {
     "data": {
      "text/plain": [
       "7.391569776321415"
      ]
     },
     "execution_count": 81,
     "metadata": {},
     "output_type": "execute_result"
    }
   ],
   "source": [
    "(df[df['lang'] == 'en']['wpm'] - df[df['lang'] == 'zh']['wpm']).mean()"
   ]
  },
  {
   "cell_type": "code",
   "execution_count": 16,
   "metadata": {},
   "outputs": [
    {
     "data": {
      "text/plain": [
       "173.68233191503504"
      ]
     },
     "execution_count": 16,
     "metadata": {},
     "output_type": "execute_result"
    }
   ],
   "source": [
    "df[df['lang'] == 'en']['wpm'].mean()"
   ]
  },
  {
   "cell_type": "code",
   "execution_count": 17,
   "metadata": {},
   "outputs": [
    {
     "data": {
      "text/plain": [
       "166.2907621387136"
      ]
     },
     "execution_count": 17,
     "metadata": {},
     "output_type": "execute_result"
    }
   ],
   "source": [
    "df[df['lang'] == 'zh']['wpm'].mean()"
   ]
  },
  {
   "cell_type": "code",
   "execution_count": null,
   "metadata": {},
   "outputs": [],
   "source": []
  }
 ],
 "metadata": {
  "kernelspec": {
   "display_name": "vem",
   "language": "python",
   "name": "python3"
  },
  "language_info": {
   "codemirror_mode": {
    "name": "ipython",
    "version": 3
   },
   "file_extension": ".py",
   "mimetype": "text/x-python",
   "name": "python",
   "nbconvert_exporter": "python",
   "pygments_lexer": "ipython3",
   "version": "3.10.13"
  }
 },
 "nbformat": 4,
 "nbformat_minor": 2
}
