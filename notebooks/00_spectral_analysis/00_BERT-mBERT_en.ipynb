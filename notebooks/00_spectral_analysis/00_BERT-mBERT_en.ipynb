{
 "cells": [
  {
   "cell_type": "code",
   "execution_count": 1,
   "metadata": {},
   "outputs": [],
   "source": [
    "%load_ext autoreload\n",
    "%autoreload 2"
   ]
  },
  {
   "cell_type": "code",
   "execution_count": 18,
   "metadata": {},
   "outputs": [],
   "source": [
    "%reload_ext autoreload"
   ]
  },
  {
   "cell_type": "code",
   "execution_count": 19,
   "metadata": {},
   "outputs": [
    {
     "name": "stdout",
     "output_type": "stream",
     "text": [
      "/home/ra/Codes/timescales_filtering/feature_extraction\n"
     ]
    }
   ],
   "source": [
    "import os\n",
    "\n",
    "# move to project root\n",
    "while True:\n",
    "    # get list of directories\n",
    "    dirs = os.listdir()\n",
    "    if \"README.md\" in dirs:\n",
    "        break\n",
    "    else:\n",
    "        os.chdir(\"..\")\n",
    "\n",
    "# then move to feature extraction\n",
    "os.chdir(\"feature_extraction\")\n",
    "\n",
    "print(os.getcwd())"
   ]
  },
  {
   "cell_type": "code",
   "execution_count": 20,
   "metadata": {},
   "outputs": [],
   "source": [
    "from typing import List\n",
    "\n",
    "from tqdm.notebook import tqdm\n",
    "\n",
    "import numpy as np\n",
    "\n",
    "from scipy.signal import welch\n",
    "\n",
    "import matplotlib.pyplot as plt\n",
    "import seaborn as sns"
   ]
  },
  {
   "cell_type": "code",
   "execution_count": 21,
   "metadata": {},
   "outputs": [],
   "source": [
    "from hard_coded_things import train_stories, test_stories\n",
    "\n",
    "from signal_processing import upsample_story\n",
    "from utils import get_dir\n",
    "from hard_coded_things import frequency_to_period_name_dict\n"
   ]
  },
  {
   "cell_type": "code",
   "execution_count": 22,
   "metadata": {},
   "outputs": [],
   "source": [
    "from config import config_plotting"
   ]
  },
  {
   "cell_type": "code",
   "execution_count": 23,
   "metadata": {},
   "outputs": [],
   "source": [
    "config_plotting(context=\"paper\", palette=\"muted\")"
   ]
  },
  {
   "cell_type": "code",
   "execution_count": 24,
   "metadata": {},
   "outputs": [],
   "source": [
    "fft_size = 1024\n",
    "sr = 10\n",
    "\n",
    "n_neurons = 9984\n",
    "\n",
    "seed = 10\n",
    "\n",
    "upsampling_method = \"linear\"\n",
    "normalized_psd = True\n",
    "\n",
    "is_chinese=False\n",
    "\n",
    "aggregation_method = 'mean'\n",
    "\n",
    "cache = \".cache/spectral_analysis/en\""
   ]
  },
  {
   "cell_type": "code",
   "execution_count": 25,
   "metadata": {},
   "outputs": [],
   "source": [
    "if not os.path.exists(cache):\n",
    "    os.makedirs(cache)"
   ]
  },
  {
   "cell_type": "code",
   "execution_count": 26,
   "metadata": {},
   "outputs": [],
   "source": [
    "train_stories = train_stories[1:]\n",
    "all_stories = train_stories + test_stories\n",
    "grid_dir, trfile_dir = get_dir(is_chinese=is_chinese)"
   ]
  },
  {
   "cell_type": "markdown",
   "metadata": {},
   "source": [
    "# Upsampling Stories"
   ]
  },
  {
   "cell_type": "code",
   "execution_count": null,
   "metadata": {},
   "outputs": [],
   "source": [
    "\n",
    "story_data_bert_en= {}\n",
    "for s in all_stories:\n",
    "    story_data_bert_en[s] = upsample_story(\n",
    "        s,\n",
    "        new_sr=sr,\n",
    "        upsampling_method=upsampling_method,\n",
    "        story_grid_dir=grid_dir,\n",
    "        story_trfile_dir=trfile_dir,\n",
    "        featureset_name=\"BERT_all\",\n",
    "        cache=cache\n",
    "    )"
   ]
  },
  {
   "cell_type": "code",
   "execution_count": null,
   "metadata": {},
   "outputs": [],
   "source": [
    "story_data_mbert_en= {}\n",
    "for s in all_stories:\n",
    "    story_data_mbert_en[s] = upsample_story(\n",
    "        s,\n",
    "        new_sr=sr,\n",
    "        upsampling_method=upsampling_method,\n",
    "        story_grid_dir=grid_dir,\n",
    "        story_trfile_dir=trfile_dir,\n",
    "        featureset_name=\"mBERT_all\",\n",
    "        cache=cache\n",
    "    )"
   ]
  },
  {
   "cell_type": "code",
   "execution_count": null,
   "metadata": {},
   "outputs": [],
   "source": [
    "story_data_gpt_en= {}\n",
    "for s in all_stories:\n",
    "    story_data_gpt_en[s] = upsample_story(\n",
    "        s,\n",
    "        new_sr=sr,\n",
    "        upsampling_method=upsampling_method,\n",
    "        story_grid_dir=grid_dir,\n",
    "        story_trfile_dir=trfile_dir,\n",
    "        featureset_name=\"GPT_all\",\n",
    "        cache=cache\n",
    "    )"
   ]
  },
  {
   "cell_type": "markdown",
   "metadata": {},
   "source": [
    "# Spectral Density Analysis"
   ]
  },
  {
   "cell_type": "code",
   "execution_count": null,
   "metadata": {},
   "outputs": [],
   "source": [
    "def compute_psd_per_channel(story_data: dict, story_list: List = train_stories):\n",
    "    n_neurons = story_data_bert_en[train_stories[0]]['story_data'].shape[1]\n",
    "    psds = np.zeros((n_neurons, fft_size // 2 + 1))\n",
    "    f = None\n",
    "    for n in trange(n_neurons):\n",
    "        # join for all stories\n",
    "        joint_data = np.concatenate([story_data[s]['story_data'][:, n] for s in story_list])\n",
    "        joint_data = np.nan_to_num(joint_data)\n",
    "        # compute periodogram\n",
    "        f, psds[n] = welch(joint_data, fs=sr, nperseg=fft_size, return_onesided=True)\n",
    "        # f, psds[n] = periodogram(joint_data, fs=sr, nfft=fft_size)\n",
    "        \n",
    "    return f, psds"
   ]
  },
  {
   "cell_type": "code",
   "execution_count": null,
   "metadata": {},
   "outputs": [],
   "source": [
    "f, bert_periodograms = compute_psd_per_channel(story_data_bert_en, story_list = train_stories)\n",
    "f, mbert_periodograms = compute_psd_per_channel(story_data_mbert_en, story_list = train_stories)\n",
    "f, gpt_periodograms = compute_psd_per_channel(story_data_gpt_en, story_list = train_stories)"
   ]
  },
  {
   "cell_type": "code",
   "execution_count": null,
   "metadata": {},
   "outputs": [],
   "source": [
    "gpt_periodograms"
   ]
  },
  {
   "cell_type": "code",
   "execution_count": null,
   "metadata": {},
   "outputs": [],
   "source": [
    "# plot PSDs for BERT and mBERT \n",
    "plt.figure(figsize=(12, 6))\n",
    "\n",
    "plt.plot(f[1:], np.mean(bert_periodograms, axis=0)[1:], label=\"BERT\")\n",
    "plt.plot(f[1:], np.mean(mbert_periodograms, axis=0)[1:], label=\"mBERT\")\n",
    "plt.plot(f[1:], np.mean(gpt_periodograms, axis=0)[1:], label='gpt')\n",
    "\n",
    "plt.xlabel(\"Frequency (Hz)\")\n",
    "plt.ylabel(\"Power spectral density\")\n",
    "plt.title(\"Power spectral density of BERT and mBERT\")\n",
    "\n",
    "# log scale\n",
    "plt.xscale(\"log\")\n",
    "\n",
    "plt.legend()\n",
    "plt.show()\n",
    "        "
   ]
  },
  {
   "cell_type": "code",
   "execution_count": null,
   "metadata": {},
   "outputs": [],
   "source": [
    "# plot PSDs for BERT and mBERT in dB scale\n",
    "plt.figure(figsize=(12, 6))\n",
    "\n",
    "plt.plot(f[1:], np.log10(np.mean(bert_periodograms, axis=0)[1:]), label=\"BERT\")\n",
    "plt.plot(f[1:], np.log10(np.mean(mbert_periodograms, axis=0)[1:]), label=\"mBERT\")\n",
    "plt.plot(f[1:], np.log10(np.mean(gpt_periodograms, axis=0)[1:]), label='gpt')\n",
    "\n",
    "\n",
    "plt.xlabel(\"Frequency (Hz)\")\n",
    "plt.ylabel(\"Log power spectral density\")\n",
    "\n",
    "plt.title(\"Power spectral density of BERT and mBERT\")\n",
    "\n",
    "# log scale\n",
    "plt.xscale(\"log\")\n",
    "\n",
    "plt.legend()\n",
    "\n",
    "plt.show()\n"
   ]
  },
  {
   "cell_type": "code",
   "execution_count": null,
   "metadata": {},
   "outputs": [],
   "source": [
    "# plot psd imshow for BERT\n",
    "plt.figure(figsize=(12, 6))\n",
    "\n",
    "plt.imshow(np.log10(bert_periodograms), aspect='auto', origin='lower', extent=[f[0], f[-1], 0, bert_periodograms.shape[0]])\n",
    "plt.ylabel(\"Neuron\")\n",
    "plt.xlabel(\"Frequency (Hz)\")\n",
    "\n",
    "# set ticks to f\n",
    "plt.xticks(f[::64])\n",
    "\n",
    "# set y ticks by range of 768\n",
    "plt.yticks(np.arange(0, mbert_periodograms.shape[0], 768))\n",
    "\n",
    "# add colorbar\n",
    "plt.colorbar(label=\"Log power spectral density\")\n",
    "\n",
    "\n",
    "plt.show()"
   ]
  },
  {
   "cell_type": "code",
   "execution_count": null,
   "metadata": {},
   "outputs": [],
   "source": [
    "# now for mBERT\n",
    "plt.figure(figsize=(12, 6))\n",
    "\n",
    "plt.imshow(np.log10(mbert_periodograms), aspect='auto', origin='lower', extent=[f[0], f[-1], 0, mbert_periodograms.shape[0]])\n",
    "plt.ylabel(\"Neuron\")\n",
    "plt.xlabel(\"Frequency (Hz)\")\n",
    "\n",
    "# set ticks to f\n",
    "plt.xticks(f[::64])\n",
    "\n",
    "# set y ticks by range of 768\n",
    "plt.yticks(np.arange(0, mbert_periodograms.shape[0], 768))\n",
    "\n",
    "plt.colorbar(label=\"Log power spectral density\")\n",
    "\n",
    "\n",
    "plt.show()"
   ]
  },
  {
   "cell_type": "code",
   "execution_count": null,
   "metadata": {},
   "outputs": [],
   "source": [
    "# plot psd imshow for BERT\n",
    "plt.figure(figsize=(12, 6))\n",
    "\n",
    "plt.imshow(np.log10(gpt_periodograms), aspect='auto', origin='lower', extent=[f[0], f[-1], 0, gpt_periodograms.shape[0]])\n",
    "plt.ylabel(\"Neuron\")\n",
    "plt.xlabel(\"Frequency (Hz)\")\n",
    "\n",
    "# set ticks to f\n",
    "plt.xticks(f[::64])\n",
    "\n",
    "# set y ticks by range of 768\n",
    "plt.yticks(np.arange(0, gpt_periodograms.shape[0], 768))\n",
    "\n",
    "# add colorbar\n",
    "plt.colorbar(label=\"Log power spectral density\")\n",
    "\n",
    "\n",
    "plt.show()"
   ]
  },
  {
   "cell_type": "markdown",
   "metadata": {},
   "source": [
    "# Construct timescale feature"
   ]
  },
  {
   "cell_type": "code",
   "execution_count": 11,
   "metadata": {},
   "outputs": [],
   "source": [
    "import pickle\n",
    "\n",
    "from save_features import save_filtered_features, get_save_file_breakpoints, get_savename_template"
   ]
  },
  {
   "cell_type": "code",
   "execution_count": 12,
   "metadata": {},
   "outputs": [],
   "source": [
    "save_file_breakpoints = get_save_file_breakpoints(n_neurons)\n"
   ]
  },
  {
   "cell_type": "markdown",
   "metadata": {},
   "source": [
    "## Running filtering"
   ]
  },
  {
   "cell_type": "code",
   "execution_count": null,
   "metadata": {},
   "outputs": [],
   "source": [
    "save_file_breakpoints = get_save_file_breakpoints(n_neurons)\n",
    "featureset_names = ['mBERT_all', 'BERT_all', \"GPT_all\"]\n",
    "lang='en'\n",
    "# save filtered feature\n",
    "for featureset_name in featureset_names:\n",
    "    for story in all_stories:\n",
    "        for breakpoint_start, breakpoint_end in zip(\n",
    "            [0] + save_file_breakpoints[:-1], save_file_breakpoints\n",
    "        ):\n",
    "            save_dir = os.path.join('intermediate_outputs', featureset_name, lang)\n",
    "            os.makedirs(save_dir, exist_ok=True)\n",
    "            \n",
    "            save_filtered_features(\n",
    "                story,\n",
    "                featureset_name=featureset_name,\n",
    "                num_neurons=n_neurons,\n",
    "                neuron_index_range=range(breakpoint_start, breakpoint_end),\n",
    "                story_grid_dir=grid_dir,\n",
    "                story_trfile_dir=trfile_dir,\n",
    "                save_dir = save_dir,\n",
    "            )"
   ]
  },
  {
   "cell_type": "markdown",
   "metadata": {},
   "source": [
    "## grouping features"
   ]
  },
  {
   "cell_type": "code",
   "execution_count": 67,
   "metadata": {},
   "outputs": [],
   "source": [
    "def save_timescale_feature(feature_set_name='mBERT_all', lang='zh', save_dir=\"timescale_features\", stories: List[str] = all_stories):\n",
    "    feature_save_dir = os.path.join(save_dir, feature_set_name, lang)\n",
    "    os.makedirs(feature_save_dir, exist_ok=True)\n",
    "    \n",
    "    filtered_data = {}\n",
    "    for story in stories:\n",
    "        temps = []\n",
    "        for breakpoint_start, breakpoint_end in zip(\n",
    "            [0] + save_file_breakpoints[:-1], save_file_breakpoints\n",
    "        ):\n",
    "            save_dir = os.path.join('intermediate_outputs', feature_set_name, lang)\n",
    "\n",
    "            with open(\n",
    "                get_savename_template(\n",
    "                    story_name = story,\n",
    "                    neuron_index_range=range(breakpoint_start, breakpoint_end),\n",
    "                    featureset_name = feature_set_name,\n",
    "                    step_name='filter',\n",
    "                    save_filepath = save_dir,\n",
    "                ), 'rb'\n",
    "            ) as f:\n",
    "                filtered_stimulus_band = pickle.load(f)\n",
    "                temps.append(filtered_stimulus_band)\n",
    "            \n",
    "        filtered_data[story] = temps.copy()\n",
    "    # joint all features\n",
    "    freqs = list(frequency_to_period_name_dict.keys())\n",
    "\n",
    "    for story in list(filtered_data.keys()):\n",
    "        story_data = filtered_data[story]\n",
    "        chunks = len(story_data)\n",
    "        timescale = {}\n",
    "        for i, freq in enumerate(freqs):\n",
    "            timescale[str(freq)] = np.concatenate([story_data[j][freq] for j in range(chunks)], axis=1).T\n",
    "            \n",
    "        save_path = os.path.join(feature_save_dir, f'{story}.npz')\n",
    "        \n",
    "        np.savez_compressed(save_path, **timescale)\n"
   ]
  },
  {
   "cell_type": "code",
   "execution_count": 68,
   "metadata": {},
   "outputs": [],
   "source": [
    "save_timescale_feature(feature_set_name='mBERT_all', lang='en', stories=all_stories)\n",
    "\n",
    "save_timescale_feature(feature_set_name='BERT_all', lang='en', stories=all_stories)\n",
    "\n",
    "save_timescale_feature(feature_set_name=\"GPT_all\", lang='en', stories=all_stories)"
   ]
  },
  {
   "cell_type": "markdown",
   "metadata": {},
   "source": [
    "# Fitting linear model"
   ]
  },
  {
   "cell_type": "code",
   "execution_count": 27,
   "metadata": {},
   "outputs": [],
   "source": [
    "import pandas as pd\n",
    "\n",
    "from himalaya.kernel_ridge import KernelRidgeCV\n",
    "from himalaya.ridge import RidgeCV\n",
    "from himalaya.scoring import r2_score\n",
    "\n",
    "from sklearn import model_selection\n",
    "\n",
    "import matplotlib.pyplot as plt\n",
    "import seaborn as sns"
   ]
  },
  {
   "cell_type": "code",
   "execution_count": 28,
   "metadata": {},
   "outputs": [],
   "source": [
    "timescale_feature_dir = 'timescale_features'\n",
    "\n",
    "lang='en'\n",
    "\n",
    "story = all_stories[-1]"
   ]
  },
  {
   "cell_type": "code",
   "execution_count": 29,
   "metadata": {},
   "outputs": [
    {
     "data": {
      "text/plain": [
       "dict_keys(['svd'])"
      ]
     },
     "execution_count": 29,
     "metadata": {},
     "output_type": "execute_result"
    }
   ],
   "source": [
    "RidgeCV.ALL_SOLVERS.keys()"
   ]
  },
  {
   "cell_type": "code",
   "execution_count": 30,
   "metadata": {},
   "outputs": [
    {
     "data": {
      "text/plain": [
       "<function himalaya.ridge._random_search.solve_ridge_cv_svd(X, Y, alphas=1.0, fit_intercept=False, score_func=<function l2_neg_loss at 0x7fdf37f460c0>, cv=5, local_alpha=True, n_targets_batch=None, n_targets_batch_refit=None, n_alphas_batch=None, conservative=False, Y_in_cpu=False, warn=True)>"
      ]
     },
     "execution_count": 30,
     "metadata": {},
     "output_type": "execute_result"
    }
   ],
   "source": [
    "RidgeCV.ALL_SOLVERS['svd']"
   ]
  },
  {
   "cell_type": "code",
   "execution_count": 17,
   "metadata": {},
   "outputs": [
    {
     "data": {
      "text/plain": [
       "dict_keys(['eigenvalues', 'svd'])"
      ]
     },
     "execution_count": 17,
     "metadata": {},
     "output_type": "execute_result"
    }
   ],
   "source": [
    "KernelRidgeCV.ALL_SOLVERS.keys()\n"
   ]
  },
  {
   "cell_type": "code",
   "execution_count": 12,
   "metadata": {},
   "outputs": [],
   "source": [
    "def timescale_regression_analysis(\n",
    "    target_featureset_name: str,\n",
    "    input_featureset_name: str,\n",
    "    lang: str,\n",
    "    train_stories: List[str],\n",
    "    test_stories: List[str],\n",
    "    \n",
    "):\n",
    "    target_dir = os.path.join(timescale_feature_dir, target_featureset_name, lang)\n",
    "    input_dir = os.path.join(timescale_feature_dir, input_featureset_name, lang)\n",
    "   \n",
    "    \n",
    "    fcs = list(frequency_to_period_name_dict.keys())\n",
    "\n",
    "    timescale_scores = {}\n",
    "    for fc in tqdm(fcs):               \n",
    "        \n",
    "        X_train = [np.load(os.path.join(input_dir, f'{s}.npz'))[str(fc)].T for s in train_stories]\n",
    "        Y_train = [np.load(os.path.join(target_dir, f'{s}.npz'))[str(fc)].T for s in train_stories]\n",
    "        \n",
    "        X_train  = np.concatenate(X_train, axis=0)\n",
    "        Y_train = np.concatenate(Y_train, axis=0)\n",
    "        \n",
    "        X_test = [np.load(os.path.join(input_dir, f'{s}.npz'))[str(fc)].T for s in test_stories]\n",
    "        Y_test = [np.load(os.path.join(target_dir, f'{s}.npz'))[str(fc)].T for s in test_stories]\n",
    "        \n",
    "        X_test = np.concatenate(X_test, axis=0)\n",
    "        Y_test = np.concatenate(Y_test, axis=0)\n",
    "        \n",
    "        if np.allclose(X_train, Y_train):\n",
    "            print('target and input are the same')\n",
    "            break\n",
    "\n",
    "\n",
    "        model = RidgeCV(\n",
    "            alphas=np.logspace(-6, 2, 9)\n",
    "        )\n",
    "\n",
    "        model.fit(X_train, Y_train)\n",
    "        \n",
    "        with torch.no_grad():\n",
    "            Y_test_pred = model.predict(X_test)\n",
    "\n",
    "            # compute r2\n",
    "            scores = r2_score(Y_test, Y_test_pred)\n",
    "        \n",
    "        scores = backend.to_numpy(scores)\n",
    "        stat = {\n",
    "            'mean': np.mean(scores),\n",
    "            'std': np.std(scores),\n",
    "            'max': np.max(scores),\n",
    "            'min': np.min(scores),\n",
    "            'median': np.median(scores)\n",
    "        }\n",
    "        timescale_scores[frequency_to_period_name_dict[fc]] = stat\n",
    "    \n",
    "    return timescale_scores\n",
    "    "
   ]
  },
  {
   "cell_type": "code",
   "execution_count": 13,
   "metadata": {},
   "outputs": [
    {
     "data": {
      "application/vnd.jupyter.widget-view+json": {
       "model_id": "052dfb552f5f40319644b2c39936dd68",
       "version_major": 2,
       "version_minor": 0
      },
      "text/plain": [
       "  0%|          | 0/8 [00:00<?, ?it/s]"
      ]
     },
     "metadata": {},
     "output_type": "display_data"
    }
   ],
   "source": [
    "timescale_stats = timescale_regression_analysis(\n",
    "    target_featureset_name = 'mBERT_all',\n",
    "    input_featureset_name = 'BERT_all',\n",
    "    lang = lang,\n",
    "    train_stories = train_stories,\n",
    "    test_stories = test_stories\n",
    "    \n",
    ")\n",
    "timescale_stats = pd.DataFrame(timescale_stats)"
   ]
  },
  {
   "cell_type": "code",
   "execution_count": 88,
   "metadata": {},
   "outputs": [],
   "source": [
    "mbert_gpt_timescale_stats = timescale_regression_analysis(\n",
    "    target_featureset_name = 'mBERT_all',\n",
    "    input_featureset_name = 'GPT_all',\n",
    "    lang = lang,\n",
    "    story = story\n",
    ")\n",
    "\n",
    "mbert_gpt_timescale_stats = pd.DataFrame(mbert_gpt_timescale_stats)"
   ]
  },
  {
   "cell_type": "code",
   "execution_count": 93,
   "metadata": {},
   "outputs": [],
   "source": [
    "gpt_mbert_timescale_stats = timescale_regression_analysis(\n",
    "    target_featureset_name = 'GPT_all',\n",
    "    input_featureset_name = 'mBERT_all',\n",
    "    lang = lang,\n",
    "    story = story\n",
    ")\n",
    "\n",
    "gpt_mbert_timescale_stats = pd.DataFrame(gpt_mbert_timescale_stats)"
   ]
  },
  {
   "cell_type": "markdown",
   "metadata": {},
   "source": [
    "## plotting"
   ]
  },
  {
   "cell_type": "code",
   "execution_count": 50,
   "metadata": {},
   "outputs": [
    {
     "data": {
      "text/html": [
       "<div>\n",
       "<style scoped>\n",
       "    .dataframe tbody tr th:only-of-type {\n",
       "        vertical-align: middle;\n",
       "    }\n",
       "\n",
       "    .dataframe tbody tr th {\n",
       "        vertical-align: top;\n",
       "    }\n",
       "\n",
       "    .dataframe thead th {\n",
       "        text-align: right;\n",
       "    }\n",
       "</style>\n",
       "<table border=\"1\" class=\"dataframe\">\n",
       "  <thead>\n",
       "    <tr style=\"text-align: right;\">\n",
       "      <th></th>\n",
       "      <th>2_4_words</th>\n",
       "      <th>4_8_words</th>\n",
       "      <th>8_16_words</th>\n",
       "      <th>16_32_words</th>\n",
       "      <th>32_64_words</th>\n",
       "      <th>64_128_words</th>\n",
       "      <th>128_256_words</th>\n",
       "      <th>256+ words</th>\n",
       "    </tr>\n",
       "  </thead>\n",
       "  <tbody>\n",
       "    <tr>\n",
       "      <th>mean</th>\n",
       "      <td>0.602687</td>\n",
       "      <td>0.579721</td>\n",
       "      <td>0.519416</td>\n",
       "      <td>0.501477</td>\n",
       "      <td>0.509923</td>\n",
       "      <td>0.521272</td>\n",
       "      <td>0.540614</td>\n",
       "      <td>0.073273</td>\n",
       "    </tr>\n",
       "    <tr>\n",
       "      <th>std</th>\n",
       "      <td>0.112335</td>\n",
       "      <td>0.096719</td>\n",
       "      <td>0.110096</td>\n",
       "      <td>0.133818</td>\n",
       "      <td>0.144337</td>\n",
       "      <td>0.165567</td>\n",
       "      <td>0.227411</td>\n",
       "      <td>0.600971</td>\n",
       "    </tr>\n",
       "  </tbody>\n",
       "</table>\n",
       "</div>"
      ],
      "text/plain": [
       "      2_4_words  4_8_words  8_16_words  16_32_words  32_64_words  \\\n",
       "mean   0.602687   0.579721    0.519416     0.501477     0.509923   \n",
       "std    0.112335   0.096719    0.110096     0.133818     0.144337   \n",
       "\n",
       "      64_128_words  128_256_words  256+ words  \n",
       "mean      0.521272       0.540614    0.073273  \n",
       "std       0.165567       0.227411    0.600971  "
      ]
     },
     "execution_count": 50,
     "metadata": {},
     "output_type": "execute_result"
    }
   ],
   "source": [
    "timescale_stats"
   ]
  },
  {
   "cell_type": "code",
   "execution_count": 90,
   "metadata": {},
   "outputs": [
    {
     "data": {
      "text/html": [
       "<div>\n",
       "<style scoped>\n",
       "    .dataframe tbody tr th:only-of-type {\n",
       "        vertical-align: middle;\n",
       "    }\n",
       "\n",
       "    .dataframe tbody tr th {\n",
       "        vertical-align: top;\n",
       "    }\n",
       "\n",
       "    .dataframe thead th {\n",
       "        text-align: right;\n",
       "    }\n",
       "</style>\n",
       "<table border=\"1\" class=\"dataframe\">\n",
       "  <thead>\n",
       "    <tr style=\"text-align: right;\">\n",
       "      <th></th>\n",
       "      <th>2_4_words</th>\n",
       "      <th>4_8_words</th>\n",
       "      <th>8_16_words</th>\n",
       "      <th>16_32_words</th>\n",
       "      <th>32_64_words</th>\n",
       "      <th>64_128_words</th>\n",
       "      <th>128_256_words</th>\n",
       "      <th>256+ words</th>\n",
       "    </tr>\n",
       "  </thead>\n",
       "  <tbody>\n",
       "    <tr>\n",
       "      <th>mean</th>\n",
       "      <td>0.912004</td>\n",
       "      <td>0.998122</td>\n",
       "      <td>0.999992</td>\n",
       "      <td>9.999985e-01</td>\n",
       "      <td>9.999992e-01</td>\n",
       "      <td>9.999994e-01</td>\n",
       "      <td>9.999994e-01</td>\n",
       "      <td>9.999998e-01</td>\n",
       "    </tr>\n",
       "    <tr>\n",
       "      <th>std</th>\n",
       "      <td>0.059296</td>\n",
       "      <td>0.002214</td>\n",
       "      <td>0.000005</td>\n",
       "      <td>5.460140e-07</td>\n",
       "      <td>2.957702e-07</td>\n",
       "      <td>3.950604e-07</td>\n",
       "      <td>7.630836e-07</td>\n",
       "      <td>5.914442e-07</td>\n",
       "    </tr>\n",
       "  </tbody>\n",
       "</table>\n",
       "</div>"
      ],
      "text/plain": [
       "      2_4_words  4_8_words  8_16_words   16_32_words   32_64_words  \\\n",
       "mean   0.912004   0.998122    0.999992  9.999985e-01  9.999992e-01   \n",
       "std    0.059296   0.002214    0.000005  5.460140e-07  2.957702e-07   \n",
       "\n",
       "      64_128_words  128_256_words    256+ words  \n",
       "mean  9.999994e-01   9.999994e-01  9.999998e-01  \n",
       "std   3.950604e-07   7.630836e-07  5.914442e-07  "
      ]
     },
     "execution_count": 90,
     "metadata": {},
     "output_type": "execute_result"
    }
   ],
   "source": [
    "mbert_gpt_timescale_stats"
   ]
  },
  {
   "cell_type": "code",
   "execution_count": 94,
   "metadata": {},
   "outputs": [
    {
     "data": {
      "text/html": [
       "<div>\n",
       "<style scoped>\n",
       "    .dataframe tbody tr th:only-of-type {\n",
       "        vertical-align: middle;\n",
       "    }\n",
       "\n",
       "    .dataframe tbody tr th {\n",
       "        vertical-align: top;\n",
       "    }\n",
       "\n",
       "    .dataframe thead th {\n",
       "        text-align: right;\n",
       "    }\n",
       "</style>\n",
       "<table border=\"1\" class=\"dataframe\">\n",
       "  <thead>\n",
       "    <tr style=\"text-align: right;\">\n",
       "      <th></th>\n",
       "      <th>2_4_words</th>\n",
       "      <th>4_8_words</th>\n",
       "      <th>8_16_words</th>\n",
       "      <th>16_32_words</th>\n",
       "      <th>32_64_words</th>\n",
       "      <th>64_128_words</th>\n",
       "      <th>128_256_words</th>\n",
       "      <th>256+ words</th>\n",
       "    </tr>\n",
       "  </thead>\n",
       "  <tbody>\n",
       "    <tr>\n",
       "      <th>mean</th>\n",
       "      <td>0.917414</td>\n",
       "      <td>0.997195</td>\n",
       "      <td>0.999988</td>\n",
       "      <td>9.999981e-01</td>\n",
       "      <td>9.999991e-01</td>\n",
       "      <td>9.999994e-01</td>\n",
       "      <td>9.999995e-01</td>\n",
       "      <td>9.999998e-01</td>\n",
       "    </tr>\n",
       "    <tr>\n",
       "      <th>std</th>\n",
       "      <td>0.038880</td>\n",
       "      <td>0.002456</td>\n",
       "      <td>0.000006</td>\n",
       "      <td>5.608425e-07</td>\n",
       "      <td>2.947271e-07</td>\n",
       "      <td>2.327463e-07</td>\n",
       "      <td>2.830503e-07</td>\n",
       "      <td>1.681120e-07</td>\n",
       "    </tr>\n",
       "  </tbody>\n",
       "</table>\n",
       "</div>"
      ],
      "text/plain": [
       "      2_4_words  4_8_words  8_16_words   16_32_words   32_64_words  \\\n",
       "mean   0.917414   0.997195    0.999988  9.999981e-01  9.999991e-01   \n",
       "std    0.038880   0.002456    0.000006  5.608425e-07  2.947271e-07   \n",
       "\n",
       "      64_128_words  128_256_words    256+ words  \n",
       "mean  9.999994e-01   9.999995e-01  9.999998e-01  \n",
       "std   2.327463e-07   2.830503e-07  1.681120e-07  "
      ]
     },
     "execution_count": 94,
     "metadata": {},
     "output_type": "execute_result"
    }
   ],
   "source": [
    "gpt_mbert_timescale_stats"
   ]
  },
  {
   "cell_type": "code",
   "execution_count": 91,
   "metadata": {},
   "outputs": [
    {
     "data": {
      "image/png": "[encoded data removed]",
      "text/plain": [
       "<Figure size 640x480 with 1 Axes>"
      ]
     },
     "metadata": {},
     "output_type": "display_data"
    }
   ],
   "source": [
    "# plot mean barplot\n",
    "sns.barplot(x=timescale_stats.columns, y=timescale_stats.loc['mean'])\n",
    "\n",
    "# tilt xlabel\n",
    "plt.xticks(rotation=45)\n",
    "plt.xlabel('timescale')\n",
    "plt.ylabel(r'$r^2 score$')\n",
    "\n",
    "plt.tight_layout()\n",
    "\n",
    "plt.title('mBERT timescale predicted by BERT (EN)')\n",
    "plt.show()"
   ]
  },
  {
   "cell_type": "code",
   "execution_count": 92,
   "metadata": {},
   "outputs": [
    {
     "data": {
      "image/png": "[encoded data removed]",
      "text/plain": [
       "<Figure size 640x480 with 1 Axes>"
      ]
     },
     "metadata": {},
     "output_type": "display_data"
    }
   ],
   "source": [
    "# plot mean barplot\n",
    "sns.barplot(x=mbert_gpt_timescale_stats.columns, y=mbert_gpt_timescale_stats.loc['mean'])\n",
    "\n",
    "# tilt xlabel\n",
    "plt.xticks(rotation=45)\n",
    "plt.xlabel('timescale')\n",
    "plt.ylabel(r'$r^2 score$')\n",
    "\n",
    "plt.tight_layout()\n",
    "\n",
    "plt.title('mBERT timescale predicted by GPT(EN)')\n",
    "plt.show()"
   ]
  },
  {
   "cell_type": "code",
   "execution_count": null,
   "metadata": {},
   "outputs": [],
   "source": []
  }
 ],
 "metadata": {
  "kernelspec": {
   "display_name": "vem",
   "language": "python",
   "name": "python3"
  },
  "language_info": {
   "codemirror_mode": {
    "name": "ipython",
    "version": 3
   },
   "file_extension": ".py",
   "mimetype": "text/x-python",
   "name": "python",
   "nbconvert_exporter": "python",
   "pygments_lexer": "ipython3",
   "version": "3.11.5"
  }
 },
 "nbformat": 4,
 "nbformat_minor": 2
}
